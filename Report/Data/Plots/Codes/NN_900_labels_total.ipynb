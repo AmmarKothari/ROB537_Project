{
 "cells": [
  {
   "cell_type": "code",
   "execution_count": 1,
   "metadata": {},
   "outputs": [
    {
     "name": "stdout",
     "output_type": "stream",
     "text": [
      "Done\n"
     ]
    }
   ],
   "source": [
    "### Baseline one ###\n",
    "\n",
    "import csv\n",
    "import pandas as pd\n",
    "import numpy as np\n",
    "from sklearn.utils import shuffle\n",
    "import matplotlib.pyplot as plt\n",
    "\n",
    "path_MLP = 'ToySyntheticRecordData-1510737635'\n",
    "path_TINY = 'ToySyntheticRecordData-1510741658'\n",
    "path_DEEP = 'ToySyntheticRecordData-1510746837'\n",
    "\n",
    "iteration_MLP = np.arange(0,116500,500)\n",
    "iteration_TINY = np.arange(0,145000,500)\n",
    "iteration_DEEP = np.arange(0,84500,500)\n",
    "\n",
    "t_MLP = np.linspace(0,60,len(iteration_MLP))\n",
    "t_TINY = np.linspace(0,60,len(iteration_TINY))\n",
    "t_DEEP = np.linspace(0,60,len(iteration_DEEP))\n",
    "\n",
    "totals_MLP = []\n",
    "for it_MLP in iteration_MLP:\n",
    "    data_MLP = pd.read_csv('data/NN_Type/{:s}/run_{:d}_0.csv'.format(path_MLP,it_MLP))\n",
    "    data_rewards_MLP = data_MLP['rewards']\n",
    "\n",
    "    rewards_MLP = np.zeros(len(data_rewards_MLP))\n",
    "\n",
    "    total_rewards_MLP = 0\n",
    "    for i1 in range(len(data_rewards_MLP)):\n",
    "        total_rewards_MLP += data_rewards_MLP[i1]\n",
    "        rewards_MLP[i1] = total_rewards_MLP\n",
    "    \n",
    "    totals_MLP.append(total_rewards_MLP)\n",
    "\n",
    "totals_TINY = []\n",
    "for it_TINY in iteration_TINY:\n",
    "    data_TINY = pd.read_csv('data/NN_Type/{:s}/run_{:d}_0.csv'.format(path_TINY,it_TINY))\n",
    "    data_rewards_TINY = data_TINY['rewards']\n",
    "\n",
    "    rewards_TINY = np.zeros(len(data_rewards_TINY))\n",
    "\n",
    "    total_rewards_TINY = 0\n",
    "    for i2 in range(len(data_rewards_TINY)):\n",
    "        total_rewards_TINY += data_rewards_TINY[i2]\n",
    "        rewards_TINY[i2] = total_rewards_TINY\n",
    "    \n",
    "    totals_TINY.append(total_rewards_TINY)\n",
    "\n",
    "totals_DEEP = []\n",
    "for it_DEEP in iteration_DEEP:\n",
    "    data_DEEP = pd.read_csv('data/NN_Type/{:s}/run_{:d}_0.csv'.format(path_DEEP,it_DEEP))\n",
    "    data_rewards_DEEP = data_DEEP['rewards']\n",
    "\n",
    "    rewards_DEEP = np.zeros(len(data_rewards_DEEP))\n",
    "\n",
    "    total_rewards_DEEP = 0\n",
    "    for i3 in range(len(data_rewards_DEEP)):\n",
    "        total_rewards_DEEP += data_rewards_DEEP[i3]\n",
    "        rewards_TINY[i3] = total_rewards_DEEP\n",
    "    \n",
    "    totals_DEEP.append(total_rewards_DEEP)\n",
    "\n",
    "totals_MLP = (totals_MLP - np.min(totals_MLP))/(np.max(totals_MLP) - np.min(totals_MLP))\n",
    "totals_TINY = (totals_TINY - np.min(totals_TINY))/(np.max(totals_TINY) - np.min(totals_TINY))\n",
    "totals_DEEP = (totals_DEEP - np.min(totals_DEEP))/(np.max(totals_DEEP) - np.min(totals_DEEP))    \n",
    "\n",
    "fig2, ax2 = plt.subplots()\n",
    "ax2.plot(t_MLP,totals_MLP,label='MLP NN')\n",
    "ax2.plot(t_TINY,totals_TINY,label='TINY NN')\n",
    "ax2.plot(t_DEEP,totals_DEEP,label='DEEP NN')\n",
    "ax2.set_title('3 Different Networks Training Results')\n",
    "ax2.set_xlabel('Time(m)')\n",
    "ax2.set_ylabel('Normalized Rewards')\n",
    "ax2.legend()\n",
    "ax2.set_xlim([-1, 61])\n",
    "ax2.grid()\n",
    "fig2.savefig('data/NN_Type/NN_TYPE_900_normalized.png')\n",
    "print('Done')"
   ]
  },
  {
   "cell_type": "code",
   "execution_count": null,
   "metadata": {},
   "outputs": [],
   "source": []
  }
 ],
 "metadata": {
  "kernelspec": {
   "display_name": "Python 3",
   "language": "python",
   "name": "python3"
  },
  "language_info": {
   "codemirror_mode": {
    "name": "ipython",
    "version": 3
   },
   "file_extension": ".py",
   "mimetype": "text/x-python",
   "name": "python",
   "nbconvert_exporter": "python",
   "pygments_lexer": "ipython3",
   "version": "3.6.2"
  }
 },
 "nbformat": 4,
 "nbformat_minor": 2
}
