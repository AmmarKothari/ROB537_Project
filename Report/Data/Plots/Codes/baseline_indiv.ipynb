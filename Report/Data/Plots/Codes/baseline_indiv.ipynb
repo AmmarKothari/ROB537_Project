{
 "cells": [
  {
   "cell_type": "code",
   "execution_count": null,
   "metadata": {},
   "outputs": [],
   "source": [
    "### Individual Baseline Training ###\n",
    "\n",
    "import csv\n",
    "import pandas as pd\n",
    "import numpy as np\n",
    "from sklearn.utils import shuffle\n",
    "import matplotlib.pyplot as plt\n",
    "\n",
    "path = 'ToyRLRecordData-1510537181'\n",
    "number = 1510537181\n",
    "\n",
    "iteration = np.arange(0,64500,500)\n",
    "t = np.linspace(0,60,len(iteration))\n",
    "totals = []\n",
    "for it in iteration:\n",
    "    data = pd.read_csv('data/BaseRL/{:s}/run_{:d}_0.csv'.format(path,it))\n",
    "    data_rewards = data['rewards']\n",
    "\n",
    "    rewards = np.zeros(len(data_rewards))\n",
    "\n",
    "    total_rewards = 0\n",
    "    for i in range(len(data_rewards)):\n",
    "        total_rewards += data_rewards[i]\n",
    "        rewards[i] = total_rewards\n",
    "    \n",
    "    totals.append(total_rewards)\n",
    "\n",
    "\n",
    "fig2, ax2 = plt.subplots()\n",
    "ax2.plot(t,totals,label='Baseline')\n",
    "ax2.set_title('Baseline RL Training Results')\n",
    "ax2.set_xlabel('Time(m)')\n",
    "ax2.set_ylabel('Rewards')\n",
    "ax2.legend()\n",
    "ax2.set_xlim([-1, 61])\n",
    "ax2.grid()\n",
    "fig2.savefig('data/BaseRL/{:s}/Baseline_{:d}_total_({:d}).png'.format(path,number,max(iteration)))\n"
   ]
  }
 ],
 "metadata": {
  "kernelspec": {
   "display_name": "Python 3",
   "language": "python",
   "name": "python3"
  },
  "language_info": {
   "codemirror_mode": {
    "name": "ipython",
    "version": 3
   },
   "file_extension": ".py",
   "mimetype": "text/x-python",
   "name": "python",
   "nbconvert_exporter": "python",
   "pygments_lexer": "ipython3",
   "version": "3.6.2"
  }
 },
 "nbformat": 4,
 "nbformat_minor": 2
}
