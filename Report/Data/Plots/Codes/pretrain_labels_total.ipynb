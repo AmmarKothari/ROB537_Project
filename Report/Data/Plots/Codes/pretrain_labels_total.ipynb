{
 "cells": [
  {
   "cell_type": "code",
   "execution_count": 1,
   "metadata": {},
   "outputs": [
    {
     "name": "stdout",
     "output_type": "stream",
     "text": [
      "Done\n"
     ]
    }
   ],
   "source": [
    "### Total Pretrain Training  ###\n",
    "\n",
    "import csv\n",
    "import pandas as pd\n",
    "import numpy as np\n",
    "from sklearn.utils import shuffle\n",
    "import matplotlib.pyplot as plt\n",
    "import os\n",
    "\n",
    "\n",
    "path_pool = os.listdir('data/Synthetic_PretrainLabels/')\n",
    "label_pool = [10,50,100,200,250,300,350]\n",
    "fig1, ax1 = plt.subplots()\n",
    "fig2, ax2 = plt.subplots()\n",
    "set_number = 0\n",
    "for path in path_pool:\n",
    "    file_list = os.listdir('data/Synthetic_PretrainLabels/{:s}'.format(path)) # dir is your directory path\n",
    "    n_files = len(file_list)\n",
    "    iteration = np.arange(0, int((n_files - 7)/2*500), 500)\n",
    "    t = np.linspace(0,60,len(iteration))\n",
    "    totals = []\n",
    "    original_totals = []\n",
    "    for it in iteration:\n",
    "        data = pd.read_csv('data/Synthetic_PretrainLabels/{:s}/run_{:d}_0.csv'.format(path,it))\n",
    "        \n",
    "        original_rewards = data['original_rewards']\n",
    "        indiv_original_rewards = np.zeros(len(original_rewards))\n",
    "        \n",
    "        rewards = data['rewards']\n",
    "        indiv_rewards = np.zeros(len(rewards))\n",
    "        \n",
    "        total_rewards = 0\n",
    "        for i in range(len(rewards)):\n",
    "            total_rewards += rewards[i]\n",
    "            indiv_rewards[i] = total_rewards\n",
    "        totals.append(total_rewards)\n",
    "\n",
    "        total_original_rewards = 0\n",
    "        for i in range(len(original_rewards)):\n",
    "            total_original_rewards += original_rewards[i]\n",
    "            indiv_original_rewards[i] = total_original_rewards\n",
    "        original_totals.append(total_original_rewards)\n",
    "        \n",
    "    #totals = (totals - np.min(totals))/(np.max(totals) - np.min(totals))\n",
    "    #original_totals = (original_totals - np.min(original_totals))/(np.max(original_totals) - np.min(original_totals))\n",
    "    \n",
    "    ax1.plot(t,totals,label='{:d} Pre-Labels'.format(label_pool[set_number]))\n",
    "    ax2.plot(t,original_totals,label='{:d} Pre-Labels'.format(label_pool[set_number]))\n",
    "    set_number += 1\n",
    "\n",
    "ax1.set_title('Synthetic Training Results with Pretrain + Labels')\n",
    "ax1.set_xlabel('Time(m)')\n",
    "ax1.set_ylabel('Rewards')\n",
    "ax1.legend()\n",
    "ax1.set_xlim([-1, 61])\n",
    "ax1.grid()\n",
    "fig1.savefig('data/Synthetic_pretrain_label_total.png')\n",
    "     \n",
    "ax2.set_title('Synthetic Training Results with Pretrain + Labels')\n",
    "ax2.set_xlabel('Time(m)')\n",
    "ax2.set_ylabel('Rewards')\n",
    "ax2.legend()\n",
    "ax2.set_xlim([-1, 61])\n",
    "ax2.grid()\n",
    "fig2.savefig('data/Synthetic_pretrain_label_original.png')\n",
    "print('Done')"
   ]
  },
  {
   "cell_type": "code",
   "execution_count": null,
   "metadata": {},
   "outputs": [],
   "source": []
  }
 ],
 "metadata": {
  "kernelspec": {
   "display_name": "Python 3",
   "language": "python",
   "name": "python3"
  },
  "language_info": {
   "codemirror_mode": {
    "name": "ipython",
    "version": 3
   },
   "file_extension": ".py",
   "mimetype": "text/x-python",
   "name": "python",
   "nbconvert_exporter": "python",
   "pygments_lexer": "ipython3",
   "version": "3.6.2"
  }
 },
 "nbformat": 4,
 "nbformat_minor": 2
}
